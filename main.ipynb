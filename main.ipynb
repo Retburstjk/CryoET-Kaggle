{
 "cells": [
  {
   "cell_type": "code",
   "execution_count": 14,
   "metadata": {},
   "outputs": [],
   "source": [
    "import zarr\n",
    "import numpy as np\n",
    "import cv2\n",
    "import matplotlib.pyplot as plt\n",
    "from skimage.exposure import rescale_intensity \n",
    "from ipywidgets import HBox, Image\n",
    "from IPython.display import display\n",
    "import io\n",
    "\n",
    "def convert_to_8bit(vol):\n",
    "    pmin = np.percentile(vol, 0.0)\n",
    "    pmax = np.percentile(vol, 99.9)\n",
    "    return rescale_intensity(vol, in_range=(pmin, pmax), out_range=np.uint8)\n",
    "\n",
    "paths_r = ['TS_5_4', 'TS_6_4', 'TS_6_6', 'TS_69_2', 'TS_73_6', 'TS_86_3' , 'TS_99_9']"
   ]
  },
  {
   "cell_type": "code",
   "execution_count": 15,
   "metadata": {},
   "outputs": [
    {
     "name": "stdout",
     "output_type": "stream",
     "text": [
      "This is TS_5_4 and there are 184 images\n",
      "Displaying slices for TS_5_4:\n"
     ]
    },
    {
     "data": {
      "application/vnd.jupyter.widget-view+json": {
       "model_id": "63ec6ce7239d4ec9bfb61f5cb2e99f68",
       "version_major": 2,
       "version_minor": 0
      },
      "text/plain": [
       "HBox(children=(Image(value=b'\\x89PNG\\r\\n\\x1a\\n\\x00\\x00\\x00\\rIHDR\\x00\\x00\\x02\\x80\\x00\\x00\\x02\\x80\\x08\\x06\\x00\\x…"
      ]
     },
     "metadata": {},
     "output_type": "display_data"
    },
    {
     "name": "stdout",
     "output_type": "stream",
     "text": [
      "This is TS_6_4 and there are 184 images\n",
      "Displaying slices for TS_6_4:\n"
     ]
    },
    {
     "data": {
      "application/vnd.jupyter.widget-view+json": {
       "model_id": "0ad3a96bdd294f4aad07af9fcfc969d7",
       "version_major": 2,
       "version_minor": 0
      },
      "text/plain": [
       "HBox(children=(Image(value=b'\\x89PNG\\r\\n\\x1a\\n\\x00\\x00\\x00\\rIHDR\\x00\\x00\\x02\\x80\\x00\\x00\\x02\\x80\\x08\\x06\\x00\\x…"
      ]
     },
     "metadata": {},
     "output_type": "display_data"
    },
    {
     "name": "stdout",
     "output_type": "stream",
     "text": [
      "This is TS_6_6 and there are 184 images\n",
      "Displaying slices for TS_6_6:\n"
     ]
    },
    {
     "data": {
      "application/vnd.jupyter.widget-view+json": {
       "model_id": "9aa31716ba0249248e3ec9473c0529c9",
       "version_major": 2,
       "version_minor": 0
      },
      "text/plain": [
       "HBox(children=(Image(value=b'\\x89PNG\\r\\n\\x1a\\n\\x00\\x00\\x00\\rIHDR\\x00\\x00\\x02\\x80\\x00\\x00\\x02\\x80\\x08\\x06\\x00\\x…"
      ]
     },
     "metadata": {},
     "output_type": "display_data"
    },
    {
     "name": "stdout",
     "output_type": "stream",
     "text": [
      "This is TS_69_2 and there are 184 images\n",
      "Displaying slices for TS_69_2:\n"
     ]
    },
    {
     "data": {
      "application/vnd.jupyter.widget-view+json": {
       "model_id": "91ee38ef1d40423c8cfae664e1478d56",
       "version_major": 2,
       "version_minor": 0
      },
      "text/plain": [
       "HBox(children=(Image(value=b'\\x89PNG\\r\\n\\x1a\\n\\x00\\x00\\x00\\rIHDR\\x00\\x00\\x02\\x80\\x00\\x00\\x02\\x80\\x08\\x06\\x00\\x…"
      ]
     },
     "metadata": {},
     "output_type": "display_data"
    },
    {
     "name": "stdout",
     "output_type": "stream",
     "text": [
      "This is TS_73_6 and there are 184 images\n",
      "Displaying slices for TS_73_6:\n"
     ]
    },
    {
     "data": {
      "application/vnd.jupyter.widget-view+json": {
       "model_id": "270e7a64059b45baa0e402e2a03b42aa",
       "version_major": 2,
       "version_minor": 0
      },
      "text/plain": [
       "HBox(children=(Image(value=b'\\x89PNG\\r\\n\\x1a\\n\\x00\\x00\\x00\\rIHDR\\x00\\x00\\x02\\x80\\x00\\x00\\x02\\x80\\x08\\x06\\x00\\x…"
      ]
     },
     "metadata": {},
     "output_type": "display_data"
    },
    {
     "name": "stdout",
     "output_type": "stream",
     "text": [
      "This is TS_86_3 and there are 184 images\n",
      "Displaying slices for TS_86_3:\n"
     ]
    },
    {
     "data": {
      "application/vnd.jupyter.widget-view+json": {
       "model_id": "db9e9196097b45b2b281a1443428c033",
       "version_major": 2,
       "version_minor": 0
      },
      "text/plain": [
       "HBox(children=(Image(value=b'\\x89PNG\\r\\n\\x1a\\n\\x00\\x00\\x00\\rIHDR\\x00\\x00\\x02\\x80\\x00\\x00\\x02\\x80\\x08\\x06\\x00\\x…"
      ]
     },
     "metadata": {},
     "output_type": "display_data"
    },
    {
     "name": "stdout",
     "output_type": "stream",
     "text": [
      "This is TS_99_9 and there are 184 images\n",
      "Displaying slices for TS_99_9:\n"
     ]
    },
    {
     "data": {
      "application/vnd.jupyter.widget-view+json": {
       "model_id": "8fa48e9bb112453aa919c790aedecab8",
       "version_major": 2,
       "version_minor": 0
      },
      "text/plain": [
       "HBox(children=(Image(value=b'\\x89PNG\\r\\n\\x1a\\n\\x00\\x00\\x00\\rIHDR\\x00\\x00\\x02\\x80\\x00\\x00\\x02\\x80\\x08\\x06\\x00\\x…"
      ]
     },
     "metadata": {},
     "output_type": "display_data"
    },
    {
     "name": "stdout",
     "output_type": "stream",
     "text": [
      "Finished displaying images.\n"
     ]
    }
   ],
   "source": [
    "\n",
    "\n",
    "for r in paths_r:\n",
    "    set_type = 'train'\n",
    "    zarr_path = f'data/{set_type}/static/ExperimentRuns/{r}/VoxelSpacing10.000/denoised.zarr'\n",
    "\n",
    "    try:\n",
    "        vol = zarr.open(zarr_path, mode='r')\n",
    "        vol = vol[0]\n",
    "        vol2 = convert_to_8bit(vol)\n",
    "        n_imgs = vol2.shape[0]\n",
    "\n",
    "        print(f\"This is {r} and there are {n_imgs} images\")\n",
    "\n",
    "        image_widgets = []\n",
    "        for i in range(n_imgs):\n",
    "            # Create tmp_img directly from the slice with correct dimensions\n",
    "            tmp_img = vol2[i]\n",
    "            inp_arr = np.stack([tmp_img] * 3, axis=-1)\n",
    "\n",
    "            # Remove resizing\n",
    "            inp_arr = cv2.resize(inp_arr, (640, 640))\n",
    "\n",
    "            # Convert to PNG bytes for display with ipywidgets.Image\n",
    "            img_bytes = io.BytesIO()\n",
    "            plt.imsave(img_bytes, inp_arr, format='png')\n",
    "            img_widget = Image(value=img_bytes.getvalue())\n",
    "            image_widgets.append(img_widget)\n",
    "\n",
    "        # Display the images using HBox for horizontal scrolling\n",
    "        hbox = HBox(image_widgets)\n",
    "        print(f\"Displaying slices for {r}:\")\n",
    "        display(hbox)\n",
    "\n",
    "    except Exception as e:\n",
    "        print(f\"An error occurred while processing {r}: {e}\")\n",
    "\n",
    "print(\"Finished displaying images.\")"
   ]
  },
  {
   "cell_type": "code",
   "execution_count": 16,
   "metadata": {},
   "outputs": [
    {
     "name": "stdout",
     "output_type": "stream",
     "text": [
      "Processing TS_5_4 and there are 184 images\n",
      "Saved 184 images for TS_5_4 in yolo_data/images\\TS_5_4\n",
      "Processing TS_6_4 and there are 184 images\n",
      "Saved 184 images for TS_6_4 in yolo_data/images\\TS_6_4\n",
      "Processing TS_6_6 and there are 184 images\n",
      "Saved 184 images for TS_6_6 in yolo_data/images\\TS_6_6\n",
      "Processing TS_69_2 and there are 184 images\n",
      "Saved 184 images for TS_69_2 in yolo_data/images\\TS_69_2\n",
      "Processing TS_73_6 and there are 184 images\n",
      "Saved 184 images for TS_73_6 in yolo_data/images\\TS_73_6\n",
      "Processing TS_86_3 and there are 184 images\n",
      "Saved 184 images for TS_86_3 in yolo_data/images\\TS_86_3\n",
      "Processing TS_99_9 and there are 184 images\n",
      "Saved 184 images for TS_99_9 in yolo_data/images\\TS_99_9\n",
      "Finished saving images.\n"
     ]
    }
   ],
   "source": [
    "\n",
    "import os\n",
    "\n",
    "\n",
    "output_dir = 'yolo_data/images'\n",
    "\n",
    "# Create the main output directory if it doesn't exist\n",
    "os.makedirs(output_dir, exist_ok=True)\n",
    "if not os.path.exists('yolo_data/images/TS_5_4'):\n",
    "    for r in paths_r:\n",
    "        set_type = 'train'\n",
    "        zarr_path = f'data/{set_type}/static/ExperimentRuns/{r}/VoxelSpacing10.000/denoised.zarr'\n",
    "        ts_output_dir = os.path.join(output_dir, r)\n",
    "        os.makedirs(ts_output_dir, exist_ok=True)  # Create subfolder for each TS\n",
    "\n",
    "        try:\n",
    "            vol = zarr.open(zarr_path, mode='r')\n",
    "            vol = vol[0]\n",
    "            vol2 = convert_to_8bit(vol)\n",
    "            n_imgs = vol2.shape[0]\n",
    "\n",
    "            print(f\"Processing {r} and there are {n_imgs} images\")\n",
    "\n",
    "            for i in range(n_imgs):\n",
    "                tmp_img = vol2[i]\n",
    "                inp_arr = np.stack([tmp_img] * 3, axis=-1)\n",
    "                inp_arr = cv2.resize(inp_arr, (640, 640))\n",
    "\n",
    "                # Save the image to the corresponding subfolder\n",
    "                image_filename = os.path.join(ts_output_dir, f\"{i:04d}.png\") # Added formatting for index\n",
    "                cv2.imwrite(image_filename, inp_arr)\n",
    "\n",
    "            print(f\"Saved {n_imgs} images for {r} in {ts_output_dir}\")\n",
    "\n",
    "        except Exception as e:\n",
    "            print(f\"An error occurred while processing {r}: {e}\")\n",
    "\n",
    "    print(\"Finished saving images.\")\n",
    "else:\n",
    "    print('Images are already extracted')"
   ]
  },
  {
   "cell_type": "code",
   "execution_count": 10,
   "metadata": {},
   "outputs": [
    {
     "name": "stdout",
     "output_type": "stream",
     "text": [
      "Minimum 'x' value found: 69.928\n",
      "Maximum 'x' value found: 6229.592\n",
      "--------------------------------------------------\n",
      "Minimum 'y' value found: 86.606\n",
      "Maximum 'y' value found: 6266.944\n",
      "--------------------------------------------------\n",
      "Minimum 'z' value found: 39.085\n",
      "Maximum 'z' value found: 1549.302\n"
     ]
    }
   ],
   "source": [
    "import os\n",
    "import json\n",
    "\n",
    "def find_min_max_xyz(path):\n",
    "    \"\"\"\n",
    "    Finds the minimum and maximum 'x', 'y', and 'z' values in all JSON files within the given path.\n",
    "\n",
    "    Args:\n",
    "        path: The path to the directory containing subfolders with JSON files.\n",
    "\n",
    "    Returns:\n",
    "        A tuple containing the minimum and maximum 'x', 'y', and 'z' values found,\n",
    "        or None if no 'x', 'y', or 'z' values are found.\n",
    "    \"\"\"\n",
    "    min_x = float('inf')\n",
    "    max_x = float('-inf')\n",
    "    min_y = float('inf')\n",
    "    max_y = float('-inf')\n",
    "    min_z = float('inf')\n",
    "    max_z = float('-inf')\n",
    "    found_x = False\n",
    "    found_y = False\n",
    "    found_z = False\n",
    "\n",
    "    for root, _, files in os.walk(path):\n",
    "        for file in files:\n",
    "            if file.endswith(\".json\"):\n",
    "                filepath = os.path.join(root, file)\n",
    "                try:\n",
    "                    with open(filepath, 'r') as f:\n",
    "                        data = json.load(f)\n",
    "                        if 'points' in data and isinstance(data['points'], list):\n",
    "                            for point in data['points']:\n",
    "                                if 'location' in point and isinstance(point['location'], dict):\n",
    "                                    location = point['location']\n",
    "                                    if 'x' in location:\n",
    "                                        x_value = location['x']\n",
    "                                        min_x = min(min_x, x_value)\n",
    "                                        max_x = max(max_x, x_value)\n",
    "                                        found_x = True\n",
    "                                    if 'y' in location:\n",
    "                                        y_value = location['y']\n",
    "                                        min_y = min(min_y, y_value)\n",
    "                                        max_y = max(max_y, y_value)\n",
    "                                        found_y = True\n",
    "                                    if 'z' in location:\n",
    "                                        z_value = location['z']\n",
    "                                        min_z = min(min_z, z_value)\n",
    "                                        max_z = max(max_z, z_value)\n",
    "                                        found_z = True\n",
    "                except json.JSONDecodeError:\n",
    "                    print(f\"Error decoding JSON in file: {filepath}\")\n",
    "                except Exception as e:\n",
    "                    print(f\"Error processing file {filepath}: {e}\")\n",
    "\n",
    "    if found_x or found_y or found_z:\n",
    "        return (min_x if found_x else None,\n",
    "                max_x if found_x else None,\n",
    "                min_y if found_y else None,\n",
    "                max_y if found_y else None,\n",
    "                min_z if found_z else None,\n",
    "                max_z if found_z else None)\n",
    "    else:\n",
    "        return None\n",
    "\n",
    "if __name__ == \"__main__\":\n",
    "    path_to_data = r\"data\\train\\overlay\\ExperimentRuns\"\n",
    "\n",
    "    result = find_min_max_xyz(path_to_data)\n",
    "\n",
    "    if result:\n",
    "        min_x, max_x, min_y, max_y, min_z, max_z = result\n",
    "        if min_x is not None:\n",
    "            print(f\"Minimum 'x' value found: {min_x}\")\n",
    "        if max_x is not None:\n",
    "            print(f\"Maximum 'x' value found: {max_x}\")\n",
    "            print(50*'-')\n",
    "        if min_y is not None:\n",
    "            print(f\"Minimum 'y' value found: {min_y}\")\n",
    "        if max_y is not None:\n",
    "            print(f\"Maximum 'y' value found: {max_y}\")\n",
    "            print(50*'-')\n",
    "        if min_z is not None:\n",
    "            print(f\"Minimum 'z' value found: {min_z}\")\n",
    "        if max_z is not None:\n",
    "            print(f\"Maximum 'z' value found: {max_z}\")\n",
    "    else:\n",
    "        print(f\"No 'x', 'y', or 'z' values found in the JSON files within the path: {path_to_data}\")"
   ]
  },
  {
   "cell_type": "code",
   "execution_count": 17,
   "metadata": {},
   "outputs": [],
   "source": [
    "i2p = {\n",
    "  0 : 'virus',\n",
    "  1 : 'apo-ferritin',\n",
    "  2 : 'beta-galactosidase',\n",
    "  3 : 'ribosome',\n",
    "  4 : 'thyroglobulin'\n",
    "}\n",
    "\n",
    "p2i = {\n",
    "  'virus' : 0 ,\n",
    "  'apo-ferritin': 1 ,\n",
    "  'beta-galactosidase' : 2 ,\n",
    "  'ribosome' : 3 ,\n",
    "  'thyroglobulin' : 4 \n",
    "}\n",
    "\n",
    "particle_radius = {\n",
    "        'virus': 140,\n",
    "        'apo-ferritin': 60,\n",
    "        'beta-galactosidase': 90,\n",
    "        'ribosome': 150,\n",
    "        'thyroglobulin': 130,   \n",
    "    }\n",
    "\n",
    "# the radius devided by the voxel spacing, and the result devided by the X shape of the input image (640x640), and then x2 to get the diameter represented in that image\n",
    "width_height_particles = { \n",
    "        'virus': ((particle_radius['virus']/10)/640) * 2, \n",
    "        'apo-ferritin': ((particle_radius['apo-ferritin']/10)/640) * 2,\n",
    "        'beta-galactosidase': ((particle_radius['beta-galactosidase']/10)/640) * 2,\n",
    "        'ribosome': ((particle_radius['ribosome']/10)/640) * 2,\n",
    "        'thyroglobulin': ((particle_radius['thyroglobulin']/10)/640) * 2,   \n",
    "    \n",
    "}"
   ]
  },
  {
   "cell_type": "code",
   "execution_count": 21,
   "metadata": {},
   "outputs": [
    {
     "name": "stdout",
     "output_type": "stream",
     "text": [
      "0.04375\n",
      "0.01875\n",
      "0.028125\n",
      "0.046875\n",
      "0.040625\n"
     ]
    }
   ],
   "source": [
    "for i in range(5):\n",
    "  print(width_height_particles[i2p[i]])"
   ]
  },
  {
   "cell_type": "code",
   "execution_count": 7,
   "metadata": {},
   "outputs": [
    {
     "name": "stdout",
     "output_type": "stream",
     "text": [
      "Downloading https://github.com/ultralytics/assets/releases/download/v8.3.0/yolo11x.pt to 'yolo11x.pt'...\n"
     ]
    },
    {
     "name": "stderr",
     "output_type": "stream",
     "text": [
      "100%|██████████| 109M/109M [00:02<00:00, 50.2MB/s] \n"
     ]
    },
    {
     "name": "stdout",
     "output_type": "stream",
     "text": [
      "YOLO11x summary: 631 layers, 56,966,176 parameters, 0 gradients, 196.0 GFLOPs\n"
     ]
    },
    {
     "data": {
      "text/plain": [
       "(631, 56966176, 0, 195.9587328)"
      ]
     },
     "execution_count": 7,
     "metadata": {},
     "output_type": "execute_result"
    }
   ],
   "source": [
    "from ultralytics import YOLO\n",
    "model = YOLO(\"yolo11x.pt\")\n",
    "model.info()"
   ]
  },
  {
   "cell_type": "code",
   "execution_count": 12,
   "metadata": {},
   "outputs": [
    {
     "name": "stdout",
     "output_type": "stream",
     "text": [
      "\n",
      "image 1/1 e:\\ML Projects\\Kaggle\\CryoET\\Untitled.png: 640x640 (no detections), 355.3ms\n",
      "Speed: 3.7ms preprocess, 355.3ms inference, 0.5ms postprocess per image at shape (1, 3, 640, 640)\n"
     ]
    }
   ],
   "source": [
    "img_path = 'Untitled.png' # 'TS_69_2_1100.png'\n",
    "results = model(img_path)\n",
    "results[0].show()"
   ]
  }
 ],
 "metadata": {
  "kernelspec": {
   "display_name": ".venv",
   "language": "python",
   "name": "python3"
  },
  "language_info": {
   "codemirror_mode": {
    "name": "ipython",
    "version": 3
   },
   "file_extension": ".py",
   "mimetype": "text/x-python",
   "name": "python",
   "nbconvert_exporter": "python",
   "pygments_lexer": "ipython3",
   "version": "3.12.2"
  }
 },
 "nbformat": 4,
 "nbformat_minor": 2
}
